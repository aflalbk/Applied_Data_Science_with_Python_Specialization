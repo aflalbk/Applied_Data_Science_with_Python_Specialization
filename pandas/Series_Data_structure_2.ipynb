{
 "cells": [
  {
   "cell_type": "code",
   "execution_count": 1,
   "id": "8d0b0c84-7b2f-494d-a726-9a541ee9956d",
   "metadata": {},
   "outputs": [],
   "source": [
    "import pandas as pd"
   ]
  },
  {
   "cell_type": "code",
   "execution_count": 2,
   "id": "0ca5e962-9eeb-4574-913d-24c57bc8d009",
   "metadata": {},
   "outputs": [
    {
     "data": {
      "text/plain": [
       "akil         maths\n",
       "amen       physics\n",
       "kittu      biology\n",
       "lulu     chimistry\n",
       "dtype: object"
      ]
     },
     "execution_count": 2,
     "metadata": {},
     "output_type": "execute_result"
    }
   ],
   "source": [
    "student_data = {'akil' : 'maths',\n",
    "                'amen' : 'physics',\n",
    "                'kittu' : 'biology',\n",
    "                'lulu' : 'chimistry'}\n",
    "sd = pd.Series(student_data)\n",
    "sd"
   ]
  },
  {
   "cell_type": "code",
   "execution_count": 3,
   "id": "1a411502-b8b3-471f-b821-572da37dbe3f",
   "metadata": {},
   "outputs": [
    {
     "data": {
      "text/plain": [
       "'biology'"
      ]
     },
     "execution_count": 3,
     "metadata": {},
     "output_type": "execute_result"
    }
   ],
   "source": [
    "sd.iloc[2]"
   ]
  },
  {
   "cell_type": "code",
   "execution_count": 6,
   "id": "1061f272-877f-4b8f-81ad-b107571a5fcd",
   "metadata": {},
   "outputs": [
    {
     "data": {
      "text/plain": [
       "'physics'"
      ]
     },
     "execution_count": 6,
     "metadata": {},
     "output_type": "execute_result"
    }
   ],
   "source": [
    "sd.loc['amen']"
   ]
  },
  {
   "cell_type": "code",
   "execution_count": 8,
   "id": "1fa32c19-f1dc-45aa-82b7-a4f3d482b1d5",
   "metadata": {},
   "outputs": [
    {
     "data": {
      "text/plain": [
       "'biology'"
      ]
     },
     "execution_count": 8,
     "metadata": {},
     "output_type": "execute_result"
    }
   ],
   "source": [
    "sd[2]"
   ]
  },
  {
   "cell_type": "code",
   "execution_count": 9,
   "id": "5644a024-b35a-4443-8b71-bbb2b3576885",
   "metadata": {},
   "outputs": [
    {
     "data": {
      "text/plain": [
       "'physics'"
      ]
     },
     "execution_count": 9,
     "metadata": {},
     "output_type": "execute_result"
    }
   ],
   "source": [
    "sd['amen']"
   ]
  },
  {
   "cell_type": "markdown",
   "id": "ebbeb020-f205-4a72-9100-35b9f6f0704f",
   "metadata": {},
   "source": [
    "### find Average in different way and speed test"
   ]
  },
  {
   "cell_type": "code",
   "execution_count": 28,
   "id": "2ae6c4d6-5851-44b8-a08e-f4bb54cf5b75",
   "metadata": {},
   "outputs": [],
   "source": [
    "numbers = pd.Series([1,2,3,4,5,6,7])"
   ]
  },
  {
   "cell_type": "code",
   "execution_count": 29,
   "id": "5a5db226-eafe-48dc-89bc-883c9317e4e4",
   "metadata": {},
   "outputs": [
    {
     "name": "stdout",
     "output_type": "stream",
     "text": [
      "4.0\n"
     ]
    }
   ],
   "source": [
    "total = 0\n",
    "for num in numbers:\n",
    "    total+=num\n",
    "avg = total/len(numbers)\n",
    "print(avg)"
   ]
  },
  {
   "cell_type": "markdown",
   "id": "6ae0a7a2-02e0-4e2d-8a23-9ade72c6361c",
   "metadata": {},
   "source": [
    "but its actualy slow, we can do faster using `numpy`"
   ]
  },
  {
   "cell_type": "code",
   "execution_count": 30,
   "id": "eef0a227-09c0-4f2f-8e03-3e67b42d5e9e",
   "metadata": {},
   "outputs": [
    {
     "name": "stdout",
     "output_type": "stream",
     "text": [
      "4.0\n"
     ]
    }
   ],
   "source": [
    "import numpy as np\n",
    "\n",
    "avg = (np.sum(numbers)/len(numbers))\n",
    "print(avg)"
   ]
  },
  {
   "cell_type": "markdown",
   "id": "1f78b39d-5410-4c01-a9b4-157b7ff2f112",
   "metadata": {},
   "source": [
    " #### let's test the speed using magic function"
   ]
  },
  {
   "cell_type": "code",
   "execution_count": 31,
   "id": "a3278dab-268f-485e-a269-4cee12543d5a",
   "metadata": {},
   "outputs": [
    {
     "name": "stdout",
     "output_type": "stream",
     "text": [
      "0    859\n",
      "1    565\n",
      "2    433\n",
      "3    984\n",
      "4    438\n",
      "dtype: int32\n",
      "10000\n"
     ]
    }
   ],
   "source": [
    "numbers = pd.Series(np.random.randint(0,1000,10000))\n",
    "print(numbers.head())\n",
    "print(len(numbers))"
   ]
  },
  {
   "cell_type": "markdown",
   "id": "8cd208f8-d27b-48c0-b16d-13b557210ac2",
   "metadata": {},
   "source": [
    "###### using for loop "
   ]
  },
  {
   "cell_type": "code",
   "execution_count": 32,
   "id": "40f7ff0b-75d1-47fc-b168-ab1495db7f5f",
   "metadata": {},
   "outputs": [
    {
     "name": "stdout",
     "output_type": "stream",
     "text": [
      "733 µs ± 5.85 µs per loop (mean ± std. dev. of 7 runs, 1,000 loops each)\n"
     ]
    }
   ],
   "source": [
    "%%timeit  # magic function for find time\n",
    "\n",
    "total = 0\n",
    "for num in numbers:\n",
    "    total += num\n",
    "avg = total/len(numbers)"
   ]
  },
  {
   "cell_type": "markdown",
   "id": "ce0613dc-4eea-4ad8-b0a9-aeddbd066dc0",
   "metadata": {},
   "source": [
    "###### using vectorization (numpy)"
   ]
  },
  {
   "cell_type": "code",
   "execution_count": 33,
   "id": "2eb8201d-cbbe-474d-822f-8912c50dd940",
   "metadata": {},
   "outputs": [
    {
     "name": "stdout",
     "output_type": "stream",
     "text": [
      "38.8 µs ± 302 ns per loop (mean ± std. dev. of 7 runs, 10,000 loops each)\n"
     ]
    }
   ],
   "source": [
    "%%timeit\n",
    "\n",
    "avg = np.sum(numbers)/len(numbers)"
   ]
  },
  {
   "cell_type": "markdown",
   "id": "db4deb01-6a00-4ecc-a584-9097a0d449a3",
   "metadata": {},
   "source": [
    "### Different way to broadcasting and speed test"
   ]
  },
  {
   "cell_type": "code",
   "execution_count": 57,
   "id": "b5fd28d3-e255-4fb4-9fa5-f42a26886d8f",
   "metadata": {},
   "outputs": [
    {
     "data": {
      "text/plain": [
       "0    867\n",
       "1    573\n",
       "2    441\n",
       "3    992\n",
       "4    446\n",
       "dtype: int32"
      ]
     },
     "execution_count": 57,
     "metadata": {},
     "output_type": "execute_result"
    }
   ],
   "source": [
    "numbers.head()"
   ]
  },
  {
   "cell_type": "code",
   "execution_count": 58,
   "id": "99c09cfe-306a-4018-8249-5e36f3a6d1e0",
   "metadata": {},
   "outputs": [
    {
     "data": {
      "text/plain": [
       "0    869\n",
       "1    575\n",
       "2    443\n",
       "3    994\n",
       "4    448\n",
       "dtype: int32"
      ]
     },
     "execution_count": 58,
     "metadata": {},
     "output_type": "execute_result"
    }
   ],
   "source": [
    "numbers += 2\n",
    "numbers.head()"
   ]
  },
  {
   "cell_type": "code",
   "execution_count": 59,
   "id": "924234ec-c4ba-4196-9927-b970e1bb643d",
   "metadata": {},
   "outputs": [
    {
     "data": {
      "text/plain": [
       "0    871\n",
       "1    577\n",
       "2    445\n",
       "3    996\n",
       "4    450\n",
       "dtype: int32"
      ]
     },
     "execution_count": 59,
     "metadata": {},
     "output_type": "execute_result"
    }
   ],
   "source": [
    "for index in numbers.index:\n",
    "    numbers.at[index] += 2\n",
    "numbers.head()"
   ]
  },
  {
   "cell_type": "code",
   "execution_count": 60,
   "id": "504de117-5358-4908-ad4c-7a6dd394a082",
   "metadata": {},
   "outputs": [
    {
     "name": "stdout",
     "output_type": "stream",
     "text": [
      "126 µs ± 819 ns per loop (mean ± std. dev. of 7 runs, 10,000 loops each)\n"
     ]
    }
   ],
   "source": [
    "%%timeit\n",
    "\n",
    "s = pd.Series(np.random.randint(0,1000,10000))\n",
    "s += 2"
   ]
  },
  {
   "cell_type": "code",
   "execution_count": 61,
   "id": "794d23fb-bbe0-4780-9ccf-02f1e8364384",
   "metadata": {},
   "outputs": [
    {
     "name": "stdout",
     "output_type": "stream",
     "text": [
      "262 ms ± 7.91 ms per loop (mean ± std. dev. of 7 runs, 1 loop each)\n"
     ]
    }
   ],
   "source": [
    "%%timeit\n",
    "\n",
    "s = pd.Series(np.random.randint(0,1000,10000))\n",
    "for index in s.index:\n",
    "    s.at[index] += 2"
   ]
  },
  {
   "cell_type": "markdown",
   "id": "25293c59-0ad5-4538-941c-96c1478c9203",
   "metadata": {},
   "source": [
    "append values into the series"
   ]
  },
  {
   "cell_type": "code",
   "execution_count": 62,
   "id": "4addbf66-d73f-44ea-ad7b-8b1d2f9d0816",
   "metadata": {},
   "outputs": [
    {
     "data": {
      "text/plain": [
       "0    23\n",
       "1    45\n",
       "2    67\n",
       "3     7\n",
       "dtype: int64"
      ]
     },
     "execution_count": 62,
     "metadata": {},
     "output_type": "execute_result"
    }
   ],
   "source": [
    "s = pd.Series([23,45,67,7])\n",
    "s"
   ]
  },
  {
   "cell_type": "code",
   "execution_count": 64,
   "id": "dffc7641-7846-48d8-af3c-8a983c0db5ee",
   "metadata": {},
   "outputs": [
    {
     "data": {
      "text/plain": [
       "0            23\n",
       "1            45\n",
       "2            67\n",
       "3             7\n",
       "akil    History\n",
       "dtype: object"
      ]
     },
     "execution_count": 64,
     "metadata": {},
     "output_type": "execute_result"
    }
   ],
   "source": [
    "s.loc['akil'] = 'History'\n",
    "s"
   ]
  },
  {
   "cell_type": "markdown",
   "id": "4f23a790-f447-45b3-8b7a-efac5b52d385",
   "metadata": {},
   "source": [
    "#### Index value not unique"
   ]
  },
  {
   "cell_type": "code",
   "execution_count": 65,
   "id": "e6f69569-0098-41ba-91b3-114fdaa69bfa",
   "metadata": {},
   "outputs": [
    {
     "data": {
      "text/plain": [
       "akil         maths\n",
       "amen       physics\n",
       "kittu      biology\n",
       "lulu     chimistry\n",
       "dtype: object"
      ]
     },
     "execution_count": 65,
     "metadata": {},
     "output_type": "execute_result"
    }
   ],
   "source": [
    "student_data = pd.Series({'akil' : 'maths',\n",
    "                'amen' : 'physics',\n",
    "                'kittu' : 'biology',\n",
    "                'lulu' : 'chimistry'})\n",
    "student_data"
   ]
  },
  {
   "cell_type": "code",
   "execution_count": 67,
   "id": "fbd4198c-7e70-488a-89fd-0dd2c3801ade",
   "metadata": {},
   "outputs": [
    {
     "data": {
      "text/plain": [
       "anu         maths\n",
       "anu       physics\n",
       "anu    philosophy\n",
       "dtype: object"
      ]
     },
     "execution_count": 67,
     "metadata": {},
     "output_type": "execute_result"
    }
   ],
   "source": [
    "# what if \"anu\" study 3 subjectes\n",
    "\n",
    "anu_data = pd.Series(['maths','physics','philosophy'], index = ['anu','anu','anu'])\n",
    "anu_data"
   ]
  },
  {
   "cell_type": "code",
   "execution_count": 68,
   "id": "91252547-6760-48c6-bc90-8839157a2f37",
   "metadata": {},
   "outputs": [
    {
     "name": "stderr",
     "output_type": "stream",
     "text": [
      "C:\\Users\\aflal\\AppData\\Local\\Temp\\ipykernel_22916\\3906644925.py:3: FutureWarning: The series.append method is deprecated and will be removed from pandas in a future version. Use pandas.concat instead.\n",
      "  student_data.append(anu_data)\n"
     ]
    },
    {
     "data": {
      "text/plain": [
       "akil          maths\n",
       "amen        physics\n",
       "kittu       biology\n",
       "lulu      chimistry\n",
       "anu           maths\n",
       "anu         physics\n",
       "anu      philosophy\n",
       "dtype: object"
      ]
     },
     "execution_count": 68,
     "metadata": {},
     "output_type": "execute_result"
    }
   ],
   "source": [
    "# appent anu data to student data\n",
    "\n",
    "student_data.append(anu_data)"
   ]
  },
  {
   "cell_type": "code",
   "execution_count": 72,
   "id": "16da9be8-fd92-4c2f-bb5d-2c97790b5210",
   "metadata": {},
   "outputs": [
    {
     "data": {
      "text/plain": [
       "akil          maths\n",
       "amen        physics\n",
       "kittu       biology\n",
       "lulu      chimistry\n",
       "anu           maths\n",
       "anu         physics\n",
       "anu      philosophy\n",
       "dtype: object"
      ]
     },
     "execution_count": 72,
     "metadata": {},
     "output_type": "execute_result"
    }
   ],
   "source": [
    "pd.concat([student_data,anu_data])"
   ]
  },
  {
   "cell_type": "markdown",
   "id": "d3c93b60-e2ca-4ad1-b4da-fd8642d0f15d",
   "metadata": {},
   "source": [
    "understand that panda never change the orginal series, instead it's creat new series. so, to call in future we need assign this into a new name."
   ]
  },
  {
   "cell_type": "code",
   "execution_count": 73,
   "id": "21df1b82-4d33-4a62-88b3-1cc56242871c",
   "metadata": {},
   "outputs": [],
   "source": [
    "new_student_data = pd.concat([student_data,anu_data])"
   ]
  },
  {
   "cell_type": "code",
   "execution_count": 74,
   "id": "145f6ea3-1446-47d4-89a1-9c56a5e6e403",
   "metadata": {},
   "outputs": [
    {
     "data": {
      "text/plain": [
       "anu         maths\n",
       "anu       physics\n",
       "anu    philosophy\n",
       "dtype: object"
      ]
     },
     "execution_count": 74,
     "metadata": {},
     "output_type": "execute_result"
    }
   ],
   "source": [
    "new_student_data.loc['anu']"
   ]
  },
  {
   "cell_type": "code",
   "execution_count": null,
   "id": "485ff355-39fd-4ea0-96fd-b89daa128338",
   "metadata": {},
   "outputs": [],
   "source": []
  }
 ],
 "metadata": {
  "kernelspec": {
   "display_name": "Python 3 (ipykernel)",
   "language": "python",
   "name": "python3"
  },
  "language_info": {
   "codemirror_mode": {
    "name": "ipython",
    "version": 3
   },
   "file_extension": ".py",
   "mimetype": "text/x-python",
   "name": "python",
   "nbconvert_exporter": "python",
   "pygments_lexer": "ipython3",
   "version": "3.10.9"
  }
 },
 "nbformat": 4,
 "nbformat_minor": 5
}
