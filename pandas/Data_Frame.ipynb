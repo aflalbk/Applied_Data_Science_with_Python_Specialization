{
 "cells": [
  {
   "cell_type": "code",
   "execution_count": 1,
   "id": "4d9631df-8d70-46cc-bb4c-c4fd55ef4c60",
   "metadata": {},
   "outputs": [],
   "source": [
    "import pandas as pd"
   ]
  },
  {
   "cell_type": "code",
   "execution_count": 2,
   "id": "0630a01a-b1fe-49af-af20-059394208c0b",
   "metadata": {},
   "outputs": [],
   "source": [
    "# Let's create a dataframe\n",
    "\n",
    "record1 = pd.Series({'Name' : 'Alen',\n",
    "                     'Class' : '6th',\n",
    "                     'Subject' : 'Physics',\n",
    "                     'Mark' : 98})\n",
    "record2 = pd.Series({'Name' : 'Akil',\n",
    "                    'Class' : '8th',\n",
    "                    'Subject' : 'Maths',\n",
    "                    'Mark' : 60})\n",
    "record3 = pd.Series({'Name' : 'Manu',\n",
    "                     'Class' : '10th',\n",
    "                     'Subject' : 'English',\n",
    "                     'Mark' : 88})\n"
   ]
  },
  {
   "cell_type": "code",
   "execution_count": 3,
   "id": "2b998a3d-13ce-444e-bec0-fbc558491fbb",
   "metadata": {},
   "outputs": [
    {
     "data": {
      "text/html": [
       "<div>\n",
       "<style scoped>\n",
       "    .dataframe tbody tr th:only-of-type {\n",
       "        vertical-align: middle;\n",
       "    }\n",
       "\n",
       "    .dataframe tbody tr th {\n",
       "        vertical-align: top;\n",
       "    }\n",
       "\n",
       "    .dataframe thead th {\n",
       "        text-align: right;\n",
       "    }\n",
       "</style>\n",
       "<table border=\"1\" class=\"dataframe\">\n",
       "  <thead>\n",
       "    <tr style=\"text-align: right;\">\n",
       "      <th></th>\n",
       "      <th>Name</th>\n",
       "      <th>Class</th>\n",
       "      <th>Subject</th>\n",
       "      <th>Mark</th>\n",
       "    </tr>\n",
       "  </thead>\n",
       "  <tbody>\n",
       "    <tr>\n",
       "      <th>School 1</th>\n",
       "      <td>Alen</td>\n",
       "      <td>6th</td>\n",
       "      <td>Physics</td>\n",
       "      <td>98</td>\n",
       "    </tr>\n",
       "    <tr>\n",
       "      <th>School 2</th>\n",
       "      <td>Akil</td>\n",
       "      <td>8th</td>\n",
       "      <td>Maths</td>\n",
       "      <td>60</td>\n",
       "    </tr>\n",
       "    <tr>\n",
       "      <th>School 1</th>\n",
       "      <td>Manu</td>\n",
       "      <td>10th</td>\n",
       "      <td>English</td>\n",
       "      <td>88</td>\n",
       "    </tr>\n",
       "  </tbody>\n",
       "</table>\n",
       "</div>"
      ],
      "text/plain": [
       "          Name Class  Subject  Mark\n",
       "School 1  Alen   6th  Physics    98\n",
       "School 2  Akil   8th    Maths    60\n",
       "School 1  Manu  10th  English    88"
      ]
     },
     "execution_count": 3,
     "metadata": {},
     "output_type": "execute_result"
    }
   ],
   "source": [
    "df = pd.DataFrame([record1, record2 , record3], index = ['School 1', 'School 2', 'School 1'])\n",
    "df"
   ]
  },
  {
   "cell_type": "code",
   "execution_count": 4,
   "id": "06a8ba20-1b92-4438-b3f6-ca16d62e231f",
   "metadata": {},
   "outputs": [
    {
     "data": {
      "text/plain": [
       "Name          Alen\n",
       "Class          6th\n",
       "Subject    Physics\n",
       "Mark            98\n",
       "Name: School 1, dtype: object"
      ]
     },
     "execution_count": 4,
     "metadata": {},
     "output_type": "execute_result"
    }
   ],
   "source": [
    "df.iloc[0]"
   ]
  },
  {
   "cell_type": "code",
   "execution_count": 5,
   "id": "5120b336-302f-436c-91b0-19312d5149a5",
   "metadata": {},
   "outputs": [
    {
     "data": {
      "text/plain": [
       "pandas.core.series.Series"
      ]
     },
     "execution_count": 5,
     "metadata": {},
     "output_type": "execute_result"
    }
   ],
   "source": [
    "type(df.loc['School 2'])"
   ]
  },
  {
   "cell_type": "code",
   "execution_count": 6,
   "id": "861f29f8-0713-4c8d-a4a4-317d9415277c",
   "metadata": {},
   "outputs": [
    {
     "data": {
      "text/html": [
       "<div>\n",
       "<style scoped>\n",
       "    .dataframe tbody tr th:only-of-type {\n",
       "        vertical-align: middle;\n",
       "    }\n",
       "\n",
       "    .dataframe tbody tr th {\n",
       "        vertical-align: top;\n",
       "    }\n",
       "\n",
       "    .dataframe thead th {\n",
       "        text-align: right;\n",
       "    }\n",
       "</style>\n",
       "<table border=\"1\" class=\"dataframe\">\n",
       "  <thead>\n",
       "    <tr style=\"text-align: right;\">\n",
       "      <th></th>\n",
       "      <th>Name</th>\n",
       "      <th>Class</th>\n",
       "      <th>Subject</th>\n",
       "      <th>Mark</th>\n",
       "    </tr>\n",
       "  </thead>\n",
       "  <tbody>\n",
       "    <tr>\n",
       "      <th>School 1</th>\n",
       "      <td>Alen</td>\n",
       "      <td>6th</td>\n",
       "      <td>Physics</td>\n",
       "      <td>98</td>\n",
       "    </tr>\n",
       "    <tr>\n",
       "      <th>School 1</th>\n",
       "      <td>Manu</td>\n",
       "      <td>10th</td>\n",
       "      <td>English</td>\n",
       "      <td>88</td>\n",
       "    </tr>\n",
       "  </tbody>\n",
       "</table>\n",
       "</div>"
      ],
      "text/plain": [
       "          Name Class  Subject  Mark\n",
       "School 1  Alen   6th  Physics    98\n",
       "School 1  Manu  10th  English    88"
      ]
     },
     "execution_count": 6,
     "metadata": {},
     "output_type": "execute_result"
    }
   ],
   "source": [
    "df.loc['School 1']"
   ]
  },
  {
   "cell_type": "code",
   "execution_count": 7,
   "id": "d3728974-ad83-4274-ad4c-cb4a8eb18879",
   "metadata": {},
   "outputs": [
    {
     "data": {
      "text/plain": [
       "pandas.core.frame.DataFrame"
      ]
     },
     "execution_count": 7,
     "metadata": {},
     "output_type": "execute_result"
    }
   ],
   "source": [
    "type(df.loc['School 1'])"
   ]
  },
  {
   "cell_type": "code",
   "execution_count": 8,
   "id": "2b2defb6-3d62-441d-8cf2-4061ad3c685a",
   "metadata": {},
   "outputs": [
    {
     "data": {
      "text/plain": [
       "School 1    Alen\n",
       "School 1    Manu\n",
       "Name: Name, dtype: object"
      ]
     },
     "execution_count": 8,
     "metadata": {},
     "output_type": "execute_result"
    }
   ],
   "source": [
    "df.loc['School 1', 'Name']"
   ]
  },
  {
   "cell_type": "markdown",
   "id": "4801f738-3c70-4ade-a037-025cba260bfd",
   "metadata": {},
   "source": [
    "What if we need get column values?\n",
    "\n",
    "transpose the data frame and retrieve values."
   ]
  },
  {
   "cell_type": "code",
   "execution_count": 9,
   "id": "16a00976-2882-4b0b-92f2-a04ad27e3275",
   "metadata": {},
   "outputs": [
    {
     "data": {
      "text/html": [
       "<div>\n",
       "<style scoped>\n",
       "    .dataframe tbody tr th:only-of-type {\n",
       "        vertical-align: middle;\n",
       "    }\n",
       "\n",
       "    .dataframe tbody tr th {\n",
       "        vertical-align: top;\n",
       "    }\n",
       "\n",
       "    .dataframe thead th {\n",
       "        text-align: right;\n",
       "    }\n",
       "</style>\n",
       "<table border=\"1\" class=\"dataframe\">\n",
       "  <thead>\n",
       "    <tr style=\"text-align: right;\">\n",
       "      <th></th>\n",
       "      <th>School 1</th>\n",
       "      <th>School 2</th>\n",
       "      <th>School 1</th>\n",
       "    </tr>\n",
       "  </thead>\n",
       "  <tbody>\n",
       "    <tr>\n",
       "      <th>Name</th>\n",
       "      <td>Alen</td>\n",
       "      <td>Akil</td>\n",
       "      <td>Manu</td>\n",
       "    </tr>\n",
       "    <tr>\n",
       "      <th>Class</th>\n",
       "      <td>6th</td>\n",
       "      <td>8th</td>\n",
       "      <td>10th</td>\n",
       "    </tr>\n",
       "    <tr>\n",
       "      <th>Subject</th>\n",
       "      <td>Physics</td>\n",
       "      <td>Maths</td>\n",
       "      <td>English</td>\n",
       "    </tr>\n",
       "    <tr>\n",
       "      <th>Mark</th>\n",
       "      <td>98</td>\n",
       "      <td>60</td>\n",
       "      <td>88</td>\n",
       "    </tr>\n",
       "  </tbody>\n",
       "</table>\n",
       "</div>"
      ],
      "text/plain": [
       "        School 1 School 2 School 1\n",
       "Name        Alen     Akil     Manu\n",
       "Class        6th      8th     10th\n",
       "Subject  Physics    Maths  English\n",
       "Mark          98       60       88"
      ]
     },
     "execution_count": 9,
     "metadata": {},
     "output_type": "execute_result"
    }
   ],
   "source": [
    "df.T"
   ]
  },
  {
   "cell_type": "code",
   "execution_count": 10,
   "id": "c6dc2909-0cdd-4351-9e16-781f3ff7af09",
   "metadata": {},
   "outputs": [
    {
     "data": {
      "text/plain": [
       "School 1    Alen\n",
       "School 2    Akil\n",
       "School 1    Manu\n",
       "Name: Name, dtype: object"
      ]
     },
     "execution_count": 10,
     "metadata": {},
     "output_type": "execute_result"
    }
   ],
   "source": [
    "df.T.loc['Name']"
   ]
  },
  {
   "cell_type": "markdown",
   "id": "e80ce1e7-9f7c-44fa-9f00-6e93f08cff70",
   "metadata": {},
   "source": [
    "OR"
   ]
  },
  {
   "cell_type": "code",
   "execution_count": 11,
   "id": "0ce74627-794a-4011-a3ef-5bccda0225fd",
   "metadata": {},
   "outputs": [
    {
     "data": {
      "text/plain": [
       "School 1    Alen\n",
       "School 2    Akil\n",
       "School 1    Manu\n",
       "Name: Name, dtype: object"
      ]
     },
     "execution_count": 11,
     "metadata": {},
     "output_type": "execute_result"
    }
   ],
   "source": [
    "df['Name'] "
   ]
  },
  {
   "cell_type": "markdown",
   "id": "aa9c3adb-8fa4-4af6-8b4d-26f8759cfd35",
   "metadata": {},
   "source": [
    "Because `.iloc` and `.loc` are for row selection"
   ]
  },
  {
   "cell_type": "code",
   "execution_count": 12,
   "id": "597461b1-3e65-45ce-bd56-82207164f6d8",
   "metadata": {},
   "outputs": [
    {
     "data": {
      "text/plain": [
       "School 1    Alen\n",
       "School 1    Manu\n",
       "Name: Name, dtype: object"
      ]
     },
     "execution_count": 12,
     "metadata": {},
     "output_type": "execute_result"
    }
   ],
   "source": [
    "df.loc['School 1']['Name'] # not recommended "
   ]
  },
  {
   "cell_type": "code",
   "execution_count": 13,
   "id": "4739d08b-cf35-4ad5-ab9e-f9170d918911",
   "metadata": {},
   "outputs": [
    {
     "data": {
      "text/html": [
       "<div>\n",
       "<style scoped>\n",
       "    .dataframe tbody tr th:only-of-type {\n",
       "        vertical-align: middle;\n",
       "    }\n",
       "\n",
       "    .dataframe tbody tr th {\n",
       "        vertical-align: top;\n",
       "    }\n",
       "\n",
       "    .dataframe thead th {\n",
       "        text-align: right;\n",
       "    }\n",
       "</style>\n",
       "<table border=\"1\" class=\"dataframe\">\n",
       "  <thead>\n",
       "    <tr style=\"text-align: right;\">\n",
       "      <th></th>\n",
       "      <th>Name</th>\n",
       "      <th>Subject</th>\n",
       "    </tr>\n",
       "  </thead>\n",
       "  <tbody>\n",
       "    <tr>\n",
       "      <th>School 1</th>\n",
       "      <td>Alen</td>\n",
       "      <td>Physics</td>\n",
       "    </tr>\n",
       "    <tr>\n",
       "      <th>School 2</th>\n",
       "      <td>Akil</td>\n",
       "      <td>Maths</td>\n",
       "    </tr>\n",
       "    <tr>\n",
       "      <th>School 1</th>\n",
       "      <td>Manu</td>\n",
       "      <td>English</td>\n",
       "    </tr>\n",
       "  </tbody>\n",
       "</table>\n",
       "</div>"
      ],
      "text/plain": [
       "          Name  Subject\n",
       "School 1  Alen  Physics\n",
       "School 2  Akil    Maths\n",
       "School 1  Manu  English"
      ]
     },
     "execution_count": 13,
     "metadata": {},
     "output_type": "execute_result"
    }
   ],
   "source": [
    "df.loc[:,['Name','Subject']]"
   ]
  },
  {
   "cell_type": "code",
   "execution_count": 14,
   "id": "9a2c68bf-fbd9-4783-8a3c-f74bbe247581",
   "metadata": {},
   "outputs": [
    {
     "data": {
      "text/html": [
       "<div>\n",
       "<style scoped>\n",
       "    .dataframe tbody tr th:only-of-type {\n",
       "        vertical-align: middle;\n",
       "    }\n",
       "\n",
       "    .dataframe tbody tr th {\n",
       "        vertical-align: top;\n",
       "    }\n",
       "\n",
       "    .dataframe thead th {\n",
       "        text-align: right;\n",
       "    }\n",
       "</style>\n",
       "<table border=\"1\" class=\"dataframe\">\n",
       "  <thead>\n",
       "    <tr style=\"text-align: right;\">\n",
       "      <th></th>\n",
       "      <th>School 1</th>\n",
       "      <th>School 2</th>\n",
       "      <th>School 1</th>\n",
       "    </tr>\n",
       "  </thead>\n",
       "  <tbody>\n",
       "    <tr>\n",
       "      <th>Name</th>\n",
       "      <td>Alen</td>\n",
       "      <td>Akil</td>\n",
       "      <td>Manu</td>\n",
       "    </tr>\n",
       "    <tr>\n",
       "      <th>Subject</th>\n",
       "      <td>Physics</td>\n",
       "      <td>Maths</td>\n",
       "      <td>English</td>\n",
       "    </tr>\n",
       "  </tbody>\n",
       "</table>\n",
       "</div>"
      ],
      "text/plain": [
       "        School 1 School 2 School 1\n",
       "Name        Alen     Akil     Manu\n",
       "Subject  Physics    Maths  English"
      ]
     },
     "execution_count": 14,
     "metadata": {},
     "output_type": "execute_result"
    }
   ],
   "source": [
    "df.loc[:,['Name','Subject']].T"
   ]
  },
  {
   "cell_type": "markdown",
   "id": "94ab5901-5097-46ed-8723-5b4e5d30f388",
   "metadata": {},
   "source": [
    "Rows and Columns are our understanding purpose, actually it's two dimensions of a array. "
   ]
  },
  {
   "cell_type": "markdown",
   "id": "a1e15ac3-562b-4c37-84ba-d4ec9c5b9651",
   "metadata": {},
   "source": [
    "#### Delete Data from dataframe"
   ]
  },
  {
   "cell_type": "code",
   "execution_count": 15,
   "id": "3c12a014-6f46-4bd7-a25c-23e994065a6a",
   "metadata": {},
   "outputs": [
    {
     "data": {
      "text/html": [
       "<div>\n",
       "<style scoped>\n",
       "    .dataframe tbody tr th:only-of-type {\n",
       "        vertical-align: middle;\n",
       "    }\n",
       "\n",
       "    .dataframe tbody tr th {\n",
       "        vertical-align: top;\n",
       "    }\n",
       "\n",
       "    .dataframe thead th {\n",
       "        text-align: right;\n",
       "    }\n",
       "</style>\n",
       "<table border=\"1\" class=\"dataframe\">\n",
       "  <thead>\n",
       "    <tr style=\"text-align: right;\">\n",
       "      <th></th>\n",
       "      <th>Name</th>\n",
       "      <th>Class</th>\n",
       "      <th>Subject</th>\n",
       "      <th>Mark</th>\n",
       "    </tr>\n",
       "  </thead>\n",
       "  <tbody>\n",
       "    <tr>\n",
       "      <th>School 2</th>\n",
       "      <td>Akil</td>\n",
       "      <td>8th</td>\n",
       "      <td>Maths</td>\n",
       "      <td>60</td>\n",
       "    </tr>\n",
       "  </tbody>\n",
       "</table>\n",
       "</div>"
      ],
      "text/plain": [
       "          Name Class Subject  Mark\n",
       "School 2  Akil   8th   Maths    60"
      ]
     },
     "execution_count": 15,
     "metadata": {},
     "output_type": "execute_result"
    }
   ],
   "source": [
    "df.drop('School 1')"
   ]
  },
  {
   "cell_type": "code",
   "execution_count": 16,
   "id": "6301f047-db77-4d6c-b28c-f58a60c02259",
   "metadata": {},
   "outputs": [
    {
     "data": {
      "text/html": [
       "<div>\n",
       "<style scoped>\n",
       "    .dataframe tbody tr th:only-of-type {\n",
       "        vertical-align: middle;\n",
       "    }\n",
       "\n",
       "    .dataframe tbody tr th {\n",
       "        vertical-align: top;\n",
       "    }\n",
       "\n",
       "    .dataframe thead th {\n",
       "        text-align: right;\n",
       "    }\n",
       "</style>\n",
       "<table border=\"1\" class=\"dataframe\">\n",
       "  <thead>\n",
       "    <tr style=\"text-align: right;\">\n",
       "      <th></th>\n",
       "      <th>Name</th>\n",
       "      <th>Class</th>\n",
       "      <th>Subject</th>\n",
       "      <th>Mark</th>\n",
       "    </tr>\n",
       "  </thead>\n",
       "  <tbody>\n",
       "    <tr>\n",
       "      <th>School 1</th>\n",
       "      <td>Alen</td>\n",
       "      <td>6th</td>\n",
       "      <td>Physics</td>\n",
       "      <td>98</td>\n",
       "    </tr>\n",
       "    <tr>\n",
       "      <th>School 2</th>\n",
       "      <td>Akil</td>\n",
       "      <td>8th</td>\n",
       "      <td>Maths</td>\n",
       "      <td>60</td>\n",
       "    </tr>\n",
       "    <tr>\n",
       "      <th>School 1</th>\n",
       "      <td>Manu</td>\n",
       "      <td>10th</td>\n",
       "      <td>English</td>\n",
       "      <td>88</td>\n",
       "    </tr>\n",
       "  </tbody>\n",
       "</table>\n",
       "</div>"
      ],
      "text/plain": [
       "          Name Class  Subject  Mark\n",
       "School 1  Alen   6th  Physics    98\n",
       "School 2  Akil   8th    Maths    60\n",
       "School 1  Manu  10th  English    88"
      ]
     },
     "execution_count": 16,
     "metadata": {},
     "output_type": "execute_result"
    }
   ],
   "source": [
    "df # drop methord dosn't change the actuall data frame. "
   ]
  },
  {
   "cell_type": "markdown",
   "id": "a8031b70-07db-45ae-a42a-d1237d908aea",
   "metadata": {},
   "source": [
    "but we can change the actuall data frame by adding `inplace=True` argument "
   ]
  },
  {
   "cell_type": "code",
   "execution_count": 17,
   "id": "e5dae94e-51fe-489d-bc10-19a58c8bac37",
   "metadata": {},
   "outputs": [
    {
     "data": {
      "text/html": [
       "<div>\n",
       "<style scoped>\n",
       "    .dataframe tbody tr th:only-of-type {\n",
       "        vertical-align: middle;\n",
       "    }\n",
       "\n",
       "    .dataframe tbody tr th {\n",
       "        vertical-align: top;\n",
       "    }\n",
       "\n",
       "    .dataframe thead th {\n",
       "        text-align: right;\n",
       "    }\n",
       "</style>\n",
       "<table border=\"1\" class=\"dataframe\">\n",
       "  <thead>\n",
       "    <tr style=\"text-align: right;\">\n",
       "      <th></th>\n",
       "      <th>Name</th>\n",
       "      <th>Class</th>\n",
       "      <th>Subject</th>\n",
       "      <th>Mark</th>\n",
       "    </tr>\n",
       "  </thead>\n",
       "  <tbody>\n",
       "    <tr>\n",
       "      <th>School 1</th>\n",
       "      <td>Alen</td>\n",
       "      <td>6th</td>\n",
       "      <td>Physics</td>\n",
       "      <td>98</td>\n",
       "    </tr>\n",
       "    <tr>\n",
       "      <th>School 2</th>\n",
       "      <td>Akil</td>\n",
       "      <td>8th</td>\n",
       "      <td>Maths</td>\n",
       "      <td>60</td>\n",
       "    </tr>\n",
       "    <tr>\n",
       "      <th>School 1</th>\n",
       "      <td>Manu</td>\n",
       "      <td>10th</td>\n",
       "      <td>English</td>\n",
       "      <td>88</td>\n",
       "    </tr>\n",
       "  </tbody>\n",
       "</table>\n",
       "</div>"
      ],
      "text/plain": [
       "          Name Class  Subject  Mark\n",
       "School 1  Alen   6th  Physics    98\n",
       "School 2  Akil   8th    Maths    60\n",
       "School 1  Manu  10th  English    88"
      ]
     },
     "execution_count": 17,
     "metadata": {},
     "output_type": "execute_result"
    }
   ],
   "source": [
    "# lets make a copy of df\n",
    "\n",
    "copy_df = df.copy()\n",
    "copy_df"
   ]
  },
  {
   "cell_type": "code",
   "execution_count": 18,
   "id": "2ad6e6ce-628b-4f05-a96b-db7c7f3404ff",
   "metadata": {},
   "outputs": [],
   "source": [
    "copy_df.drop('Name', inplace=True, axis=1)"
   ]
  },
  {
   "cell_type": "code",
   "execution_count": 19,
   "id": "6dc2f7fb-ca5f-431d-967d-972347c55e34",
   "metadata": {},
   "outputs": [
    {
     "name": "stdout",
     "output_type": "stream",
     "text": [
      "          Name Class  Subject  Mark\n",
      "School 1  Alen   6th  Physics    98\n",
      "School 1  Manu  10th  English    88\n"
     ]
    }
   ],
   "source": [
    "copy1_df = df.copy()\n",
    "copy1_df.drop('School 2', inplace=True, axis=0)\n",
    "print(copy1_df)"
   ]
  },
  {
   "cell_type": "code",
   "execution_count": 20,
   "id": "e78574e8-a119-46e5-ad26-5e653e3402f1",
   "metadata": {},
   "outputs": [
    {
     "data": {
      "text/html": [
       "<div>\n",
       "<style scoped>\n",
       "    .dataframe tbody tr th:only-of-type {\n",
       "        vertical-align: middle;\n",
       "    }\n",
       "\n",
       "    .dataframe tbody tr th {\n",
       "        vertical-align: top;\n",
       "    }\n",
       "\n",
       "    .dataframe thead th {\n",
       "        text-align: right;\n",
       "    }\n",
       "</style>\n",
       "<table border=\"1\" class=\"dataframe\">\n",
       "  <thead>\n",
       "    <tr style=\"text-align: right;\">\n",
       "      <th></th>\n",
       "      <th>Class</th>\n",
       "      <th>Subject</th>\n",
       "      <th>Mark</th>\n",
       "    </tr>\n",
       "  </thead>\n",
       "  <tbody>\n",
       "    <tr>\n",
       "      <th>School 1</th>\n",
       "      <td>6th</td>\n",
       "      <td>Physics</td>\n",
       "      <td>98</td>\n",
       "    </tr>\n",
       "    <tr>\n",
       "      <th>School 2</th>\n",
       "      <td>8th</td>\n",
       "      <td>Maths</td>\n",
       "      <td>60</td>\n",
       "    </tr>\n",
       "    <tr>\n",
       "      <th>School 1</th>\n",
       "      <td>10th</td>\n",
       "      <td>English</td>\n",
       "      <td>88</td>\n",
       "    </tr>\n",
       "  </tbody>\n",
       "</table>\n",
       "</div>"
      ],
      "text/plain": [
       "         Class  Subject  Mark\n",
       "School 1   6th  Physics    98\n",
       "School 2   8th    Maths    60\n",
       "School 1  10th  English    88"
      ]
     },
     "execution_count": 20,
     "metadata": {},
     "output_type": "execute_result"
    }
   ],
   "source": [
    "copy_df"
   ]
  },
  {
   "cell_type": "markdown",
   "id": "49f0ba5a-a04e-40b9-b1f9-336dfa40caa5",
   "metadata": {},
   "source": [
    "Another way to do this `del`"
   ]
  },
  {
   "cell_type": "code",
   "execution_count": 21,
   "id": "6403f6ec-1977-4ee0-be78-3af1722665b7",
   "metadata": {},
   "outputs": [
    {
     "data": {
      "text/html": [
       "<div>\n",
       "<style scoped>\n",
       "    .dataframe tbody tr th:only-of-type {\n",
       "        vertical-align: middle;\n",
       "    }\n",
       "\n",
       "    .dataframe tbody tr th {\n",
       "        vertical-align: top;\n",
       "    }\n",
       "\n",
       "    .dataframe thead th {\n",
       "        text-align: right;\n",
       "    }\n",
       "</style>\n",
       "<table border=\"1\" class=\"dataframe\">\n",
       "  <thead>\n",
       "    <tr style=\"text-align: right;\">\n",
       "      <th></th>\n",
       "      <th>Class</th>\n",
       "      <th>Subject</th>\n",
       "    </tr>\n",
       "  </thead>\n",
       "  <tbody>\n",
       "    <tr>\n",
       "      <th>School 1</th>\n",
       "      <td>6th</td>\n",
       "      <td>Physics</td>\n",
       "    </tr>\n",
       "    <tr>\n",
       "      <th>School 2</th>\n",
       "      <td>8th</td>\n",
       "      <td>Maths</td>\n",
       "    </tr>\n",
       "    <tr>\n",
       "      <th>School 1</th>\n",
       "      <td>10th</td>\n",
       "      <td>English</td>\n",
       "    </tr>\n",
       "  </tbody>\n",
       "</table>\n",
       "</div>"
      ],
      "text/plain": [
       "         Class  Subject\n",
       "School 1   6th  Physics\n",
       "School 2   8th    Maths\n",
       "School 1  10th  English"
      ]
     },
     "execution_count": 21,
     "metadata": {},
     "output_type": "execute_result"
    }
   ],
   "source": [
    "del copy_df['Mark']\n",
    "copy_df"
   ]
  },
  {
   "cell_type": "markdown",
   "id": "4d3036c0-7b7e-4947-9ebc-096a9e393b74",
   "metadata": {},
   "source": [
    "add new column into df"
   ]
  },
  {
   "cell_type": "code",
   "execution_count": 22,
   "id": "9e293eef-3e46-4f49-b78c-f6ce455e7b69",
   "metadata": {},
   "outputs": [
    {
     "data": {
      "text/html": [
       "<div>\n",
       "<style scoped>\n",
       "    .dataframe tbody tr th:only-of-type {\n",
       "        vertical-align: middle;\n",
       "    }\n",
       "\n",
       "    .dataframe tbody tr th {\n",
       "        vertical-align: top;\n",
       "    }\n",
       "\n",
       "    .dataframe thead th {\n",
       "        text-align: right;\n",
       "    }\n",
       "</style>\n",
       "<table border=\"1\" class=\"dataframe\">\n",
       "  <thead>\n",
       "    <tr style=\"text-align: right;\">\n",
       "      <th></th>\n",
       "      <th>Name</th>\n",
       "      <th>Class</th>\n",
       "      <th>Subject</th>\n",
       "      <th>Mark</th>\n",
       "      <th>CGPA</th>\n",
       "    </tr>\n",
       "  </thead>\n",
       "  <tbody>\n",
       "    <tr>\n",
       "      <th>School 1</th>\n",
       "      <td>Alen</td>\n",
       "      <td>6th</td>\n",
       "      <td>Physics</td>\n",
       "      <td>98</td>\n",
       "      <td>9.8</td>\n",
       "    </tr>\n",
       "    <tr>\n",
       "      <th>School 2</th>\n",
       "      <td>Akil</td>\n",
       "      <td>8th</td>\n",
       "      <td>Maths</td>\n",
       "      <td>60</td>\n",
       "      <td>6</td>\n",
       "    </tr>\n",
       "    <tr>\n",
       "      <th>School 1</th>\n",
       "      <td>Manu</td>\n",
       "      <td>10th</td>\n",
       "      <td>English</td>\n",
       "      <td>88</td>\n",
       "      <td>88</td>\n",
       "    </tr>\n",
       "  </tbody>\n",
       "</table>\n",
       "</div>"
      ],
      "text/plain": [
       "          Name Class  Subject  Mark CGPA\n",
       "School 1  Alen   6th  Physics    98  9.8\n",
       "School 2  Akil   8th    Maths    60    6\n",
       "School 1  Manu  10th  English    88   88"
      ]
     },
     "execution_count": 22,
     "metadata": {},
     "output_type": "execute_result"
    }
   ],
   "source": [
    "df['CGPA'] = ['9.8','6','88']\n",
    "df"
   ]
  },
  {
   "cell_type": "code",
   "execution_count": 23,
   "id": "f3d958b0-de34-411d-9470-21f629f6a103",
   "metadata": {},
   "outputs": [
    {
     "data": {
      "text/html": [
       "<div>\n",
       "<style scoped>\n",
       "    .dataframe tbody tr th:only-of-type {\n",
       "        vertical-align: middle;\n",
       "    }\n",
       "\n",
       "    .dataframe tbody tr th {\n",
       "        vertical-align: top;\n",
       "    }\n",
       "\n",
       "    .dataframe thead th {\n",
       "        text-align: right;\n",
       "    }\n",
       "</style>\n",
       "<table border=\"1\" class=\"dataframe\">\n",
       "  <thead>\n",
       "    <tr style=\"text-align: right;\">\n",
       "      <th></th>\n",
       "      <th>Name</th>\n",
       "      <th>Class</th>\n",
       "      <th>Subject</th>\n",
       "      <th>Mark</th>\n",
       "      <th>CGPA</th>\n",
       "    </tr>\n",
       "  </thead>\n",
       "  <tbody>\n",
       "    <tr>\n",
       "      <th>School 1</th>\n",
       "      <td>Alen</td>\n",
       "      <td>6th</td>\n",
       "      <td>Physics</td>\n",
       "      <td>98</td>\n",
       "      <td>9.8</td>\n",
       "    </tr>\n",
       "    <tr>\n",
       "      <th>School 2</th>\n",
       "      <td>Akil</td>\n",
       "      <td>8th</td>\n",
       "      <td>Maths</td>\n",
       "      <td>60</td>\n",
       "      <td>6</td>\n",
       "    </tr>\n",
       "    <tr>\n",
       "      <th>School 1</th>\n",
       "      <td>Manu</td>\n",
       "      <td>10th</td>\n",
       "      <td>English</td>\n",
       "      <td>88</td>\n",
       "      <td>88</td>\n",
       "    </tr>\n",
       "    <tr>\n",
       "      <th>School 3</th>\n",
       "      <td>Babu</td>\n",
       "      <td>11th</td>\n",
       "      <td>Chimistry</td>\n",
       "      <td>90</td>\n",
       "      <td>9</td>\n",
       "    </tr>\n",
       "  </tbody>\n",
       "</table>\n",
       "</div>"
      ],
      "text/plain": [
       "          Name Class    Subject  Mark CGPA\n",
       "School 1  Alen   6th    Physics    98  9.8\n",
       "School 2  Akil   8th      Maths    60    6\n",
       "School 1  Manu  10th    English    88   88\n",
       "School 3  Babu  11th  Chimistry    90    9"
      ]
     },
     "execution_count": 23,
     "metadata": {},
     "output_type": "execute_result"
    }
   ],
   "source": [
    "# add new row\n",
    "\n",
    "School_3 = pd.DataFrame([{'Name' : 'Babu',\n",
    "                          'Class' : '11th',\n",
    "                          'Subject' : 'Chimistry',\n",
    "                          'Mark' : 90,\n",
    "                          'CGPA' : 9}], index = ['School 3'])\n",
    "new_df = pd.concat([df,School_3])\n",
    "new_df"
   ]
  },
  {
   "cell_type": "code",
   "execution_count": 24,
   "id": "367b1800-79fd-4920-adee-789908af96b5",
   "metadata": {},
   "outputs": [
    {
     "data": {
      "text/html": [
       "<div>\n",
       "<style scoped>\n",
       "    .dataframe tbody tr th:only-of-type {\n",
       "        vertical-align: middle;\n",
       "    }\n",
       "\n",
       "    .dataframe tbody tr th {\n",
       "        vertical-align: top;\n",
       "    }\n",
       "\n",
       "    .dataframe thead th {\n",
       "        text-align: right;\n",
       "    }\n",
       "</style>\n",
       "<table border=\"1\" class=\"dataframe\">\n",
       "  <thead>\n",
       "    <tr style=\"text-align: right;\">\n",
       "      <th></th>\n",
       "      <th>Name</th>\n",
       "      <th>Class</th>\n",
       "      <th>Subject</th>\n",
       "      <th>Mark</th>\n",
       "      <th>CGPA</th>\n",
       "    </tr>\n",
       "  </thead>\n",
       "  <tbody>\n",
       "    <tr>\n",
       "      <th>School 1</th>\n",
       "      <td>Alen</td>\n",
       "      <td>6th</td>\n",
       "      <td>Physics</td>\n",
       "      <td>98</td>\n",
       "      <td>9.8</td>\n",
       "    </tr>\n",
       "    <tr>\n",
       "      <th>School 2</th>\n",
       "      <td>Akil</td>\n",
       "      <td>8th</td>\n",
       "      <td>Maths</td>\n",
       "      <td>60</td>\n",
       "      <td>6</td>\n",
       "    </tr>\n",
       "    <tr>\n",
       "      <th>School 1</th>\n",
       "      <td>Manu</td>\n",
       "      <td>10th</td>\n",
       "      <td>English</td>\n",
       "      <td>88</td>\n",
       "      <td>88</td>\n",
       "    </tr>\n",
       "    <tr>\n",
       "      <th>School 3</th>\n",
       "      <td>Babu</td>\n",
       "      <td>11th</td>\n",
       "      <td>Chimestry</td>\n",
       "      <td>90</td>\n",
       "      <td>9</td>\n",
       "    </tr>\n",
       "  </tbody>\n",
       "</table>\n",
       "</div>"
      ],
      "text/plain": [
       "          Name Class    Subject Mark CGPA\n",
       "School 1  Alen   6th    Physics   98  9.8\n",
       "School 2  Akil   8th      Maths   60    6\n",
       "School 1  Manu  10th    English   88   88\n",
       "School 3  Babu  11th  Chimestry   90    9"
      ]
     },
     "execution_count": 24,
     "metadata": {},
     "output_type": "execute_result"
    }
   ],
   "source": [
    "# easy way\n",
    "\n",
    "School_3 = ['Babu','11th','Chimestry','90','9']\n",
    "df.loc[len(df)] = School_3\n",
    "df.index.values[3] = 'School 3'\n",
    "df\n",
    "\n",
    "# not recommended , because slow."
   ]
  },
  {
   "cell_type": "code",
   "execution_count": null,
   "id": "07e1d53f-c955-477e-a72d-ae5ba5556657",
   "metadata": {},
   "outputs": [],
   "source": []
  }
 ],
 "metadata": {
  "kernelspec": {
   "display_name": "Python 3 (ipykernel)",
   "language": "python",
   "name": "python3"
  },
  "language_info": {
   "codemirror_mode": {
    "name": "ipython",
    "version": 3
   },
   "file_extension": ".py",
   "mimetype": "text/x-python",
   "name": "python",
   "nbconvert_exporter": "python",
   "pygments_lexer": "ipython3",
   "version": "3.10.9"
  }
 },
 "nbformat": 4,
 "nbformat_minor": 5
}
