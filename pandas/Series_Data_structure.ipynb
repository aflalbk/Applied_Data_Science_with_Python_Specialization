{
 "cells": [
  {
   "cell_type": "code",
   "execution_count": 1,
   "id": "3df9e670-68c6-4f67-b11a-08f1a52b5713",
   "metadata": {},
   "outputs": [],
   "source": [
    "import pandas as pd"
   ]
  },
  {
   "cell_type": "code",
   "execution_count": 2,
   "id": "fb263738-d469-42b2-8562-7c1d70c34e4b",
   "metadata": {},
   "outputs": [
    {
     "data": {
      "text/plain": [
       "0    alen\n",
       "1    akil\n",
       "2    john\n",
       "dtype: object"
      ]
     },
     "execution_count": 2,
     "metadata": {},
     "output_type": "execute_result"
    }
   ],
   "source": [
    "students = ['alen','akil','john']\n",
    "\n",
    "pd.Series(students)"
   ]
  },
  {
   "cell_type": "code",
   "execution_count": 3,
   "id": "af503ce0-31dc-4261-bbc0-2a1afe8965a5",
   "metadata": {},
   "outputs": [
    {
     "data": {
      "text/plain": [
       "0    12\n",
       "1    34\n",
       "2    45\n",
       "dtype: int64"
      ]
     },
     "execution_count": 3,
     "metadata": {},
     "output_type": "execute_result"
    }
   ],
   "source": [
    "mark = [12,34,45]\n",
    "pd.Series(mark)"
   ]
  },
  {
   "cell_type": "code",
   "execution_count": 4,
   "id": "3f9c6c96-d794-4316-9938-bf9649af3e21",
   "metadata": {},
   "outputs": [
    {
     "data": {
      "text/plain": [
       "0    alen\n",
       "1    akil\n",
       "2    None\n",
       "dtype: object"
      ]
     },
     "execution_count": 4,
     "metadata": {},
     "output_type": "execute_result"
    }
   ],
   "source": [
    "student = ['alen','akil',None]\n",
    "pd.Series(student)"
   ]
  },
  {
   "cell_type": "code",
   "execution_count": 5,
   "id": "a789f6a3-d26f-46cd-a702-68ee77c6e598",
   "metadata": {},
   "outputs": [
    {
     "data": {
      "text/plain": [
       "0    12.0\n",
       "1    34.0\n",
       "2     NaN\n",
       "dtype: float64"
      ]
     },
     "execution_count": 5,
     "metadata": {},
     "output_type": "execute_result"
    }
   ],
   "source": [
    "mark = [12,34,None]\n",
    "pd.Series(mark)"
   ]
  },
  {
   "cell_type": "code",
   "execution_count": 6,
   "id": "ffc74205-f409-4303-b72b-69a7356d4fa4",
   "metadata": {},
   "outputs": [
    {
     "data": {
      "text/plain": [
       "nan"
      ]
     },
     "execution_count": 6,
     "metadata": {},
     "output_type": "execute_result"
    }
   ],
   "source": [
    "import numpy as np\n",
    "np.nan"
   ]
  },
  {
   "cell_type": "code",
   "execution_count": 7,
   "id": "4e632ec1-2dfd-406d-afd9-0adef9ff5438",
   "metadata": {},
   "outputs": [
    {
     "data": {
      "text/plain": [
       "False"
      ]
     },
     "execution_count": 7,
     "metadata": {},
     "output_type": "execute_result"
    }
   ],
   "source": [
    "np.nan == None"
   ]
  },
  {
   "cell_type": "code",
   "execution_count": 8,
   "id": "acbb2853-6d31-4885-9d90-f5977bfeddba",
   "metadata": {},
   "outputs": [
    {
     "data": {
      "text/plain": [
       "False"
      ]
     },
     "execution_count": 8,
     "metadata": {},
     "output_type": "execute_result"
    }
   ],
   "source": [
    "np.nan == np.nan"
   ]
  },
  {
   "cell_type": "code",
   "execution_count": 9,
   "id": "b8c7cb42-dc32-42a5-bda0-70dc706af219",
   "metadata": {},
   "outputs": [
    {
     "data": {
      "text/plain": [
       "True"
      ]
     },
     "execution_count": 9,
     "metadata": {},
     "output_type": "execute_result"
    }
   ],
   "source": [
    "np.isnan(np.nan)"
   ]
  },
  {
   "cell_type": "markdown",
   "id": "8b7b7b90-95d0-4d3c-8c1e-a9169c2274bb",
   "metadata": {},
   "source": [
    "`np.nan` and `None` both represent an empty value, but they are treated as different. NaN (not a number) is for numbers."
   ]
  },
  {
   "cell_type": "code",
   "execution_count": 19,
   "id": "9f889ff7-5b6a-426e-8f33-135cea32b726",
   "metadata": {},
   "outputs": [
    {
     "data": {
      "text/plain": [
       "alen    12\n",
       "akil    34\n",
       "john    45\n",
       "dtype: int64"
      ]
     },
     "execution_count": 19,
     "metadata": {},
     "output_type": "execute_result"
    }
   ],
   "source": [
    "# let's create panda series with dictionary \n",
    "\n",
    "student_data = {'alen' : 12,\n",
    "                'akil' : 34,\n",
    "                'john' : 45}\n",
    "\n",
    "s = pd.Series(student_data)\n",
    "s"
   ]
  },
  {
   "cell_type": "code",
   "execution_count": 20,
   "id": "b6517cd9-867b-44ce-9986-dd2e5431b892",
   "metadata": {},
   "outputs": [
    {
     "data": {
      "text/plain": [
       "Index(['alen', 'akil', 'john'], dtype='object')"
      ]
     },
     "execution_count": 20,
     "metadata": {},
     "output_type": "execute_result"
    }
   ],
   "source": [
    "s.index"
   ]
  },
  {
   "cell_type": "code",
   "execution_count": 22,
   "id": "068ab312-db35-4fb8-a0c5-9056c44e4123",
   "metadata": {},
   "outputs": [
    {
     "data": {
      "text/plain": [
       "array([12, 34, 45], dtype=int64)"
      ]
     },
     "execution_count": 22,
     "metadata": {},
     "output_type": "execute_result"
    }
   ],
   "source": [
    "s.values"
   ]
  },
  {
   "cell_type": "code",
   "execution_count": 23,
   "id": "d5a2dd70-d740-4c02-b63c-6f9d68c3106c",
   "metadata": {},
   "outputs": [
    {
     "data": {
      "text/plain": [
       "0    (anil, kumar)\n",
       "1    (star, magic)\n",
       "2    (luna, bunny)\n",
       "dtype: object"
      ]
     },
     "execution_count": 23,
     "metadata": {},
     "output_type": "execute_result"
    }
   ],
   "source": [
    "emp_name = [('anil','kumar'),('star','magic'),('luna','bunny')]\n",
    "en = pd.Series(emp_name)\n",
    "en"
   ]
  },
  {
   "cell_type": "code",
   "execution_count": 27,
   "id": "6c7beaee-3621-43e2-b008-0474909b635e",
   "metadata": {},
   "outputs": [
    {
     "data": {
      "text/plain": [
       "anil     data analysis\n",
       "mukil     data science\n",
       "abu        ML engineer\n",
       "dtype: object"
      ]
     },
     "execution_count": 27,
     "metadata": {},
     "output_type": "execute_result"
    }
   ],
   "source": [
    "emp_job = pd.Series(['data analysis', 'data science', 'ML engineer'], index = ['anil','mukil','abu'])\n",
    "emp_job"
   ]
  },
  {
   "cell_type": "code",
   "execution_count": 29,
   "id": "5825c386-f484-4773-ab27-d140febd94d1",
   "metadata": {},
   "outputs": [
    {
     "data": {
      "text/plain": [
       "alen    good\n",
       "john     bad\n",
       "luna     NaN\n",
       "dtype: object"
      ]
     },
     "execution_count": 29,
     "metadata": {},
     "output_type": "execute_result"
    }
   ],
   "source": [
    "student_data = {'alen' : 'good',\n",
    "                'akil' : 'Okay',\n",
    "                'john' : 'bad'}\n",
    "\n",
    "std_dt = pd.Series(student_data, index = ['alen','john','luna'])\n",
    "std_dt"
   ]
  },
  {
   "cell_type": "code",
   "execution_count": null,
   "id": "ec5328b3-d9fd-4c0f-b341-aea451cd13f2",
   "metadata": {},
   "outputs": [],
   "source": []
  }
 ],
 "metadata": {
  "kernelspec": {
   "display_name": "Python 3 (ipykernel)",
   "language": "python",
   "name": "python3"
  },
  "language_info": {
   "codemirror_mode": {
    "name": "ipython",
    "version": 3
   },
   "file_extension": ".py",
   "mimetype": "text/x-python",
   "name": "python",
   "nbconvert_exporter": "python",
   "pygments_lexer": "ipython3",
   "version": "3.10.9"
  }
 },
 "nbformat": 4,
 "nbformat_minor": 5
}
