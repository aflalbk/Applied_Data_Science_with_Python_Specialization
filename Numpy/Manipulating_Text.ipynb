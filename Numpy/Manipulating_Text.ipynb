{
 "cells": [
  {
   "cell_type": "code",
   "execution_count": 1,
   "id": "d7954c30-5174-4b4c-8ef1-00f99fa00072",
   "metadata": {},
   "outputs": [],
   "source": [
    "# regular Expression \n",
    "import re"
   ]
  },
  {
   "cell_type": "code",
   "execution_count": 8,
   "id": "d9cdce70-d034-4425-a9e1-e9b828f77e16",
   "metadata": {},
   "outputs": [
    {
     "name": "stdout",
     "output_type": "stream",
     "text": [
      "selected\n"
     ]
    }
   ],
   "source": [
    "# Search the value in the string\n",
    "\n",
    "text = \"He is a good boy\"\n",
    "if re.search('good',text):\n",
    "    print('selected')\n",
    "else:\n",
    "    print(\"not selected\")\n",
    "        "
   ]
  },
  {
   "cell_type": "code",
   "execution_count": 9,
   "id": "3d4593c1-50ff-4745-b1ba-fb35a3e07b9c",
   "metadata": {},
   "outputs": [
    {
     "name": "stdout",
     "output_type": "stream",
     "text": [
      "true\n"
     ]
    }
   ],
   "source": [
    "# Check the text start with a word\n",
    "\n",
    "text = \"He is a good boy\"\n",
    "if re.match('He',text):\n",
    "    print('true')\n",
    "else:\n",
    "    print(\"false\")"
   ]
  },
  {
   "cell_type": "code",
   "execution_count": 11,
   "id": "232993c9-3b04-49dd-95fc-6a6b92c00652",
   "metadata": {},
   "outputs": [
    {
     "data": {
      "text/plain": [
       "['',\n",
       " ' is the hero in the game, ',\n",
       " ' is footbal player, ',\n",
       " ' is also my friend']"
      ]
     },
     "execution_count": 11,
     "metadata": {},
     "output_type": "execute_result"
    }
   ],
   "source": [
    "# tokenizing \n",
    "\n",
    "text = \"alen is the hero in the game, alen is footbal player, alen is also my friend\"\n",
    "re.split('alen',text)"
   ]
  },
  {
   "cell_type": "code",
   "execution_count": 14,
   "id": "15d7d957-86e7-47c8-b240-03dcafd78162",
   "metadata": {},
   "outputs": [
    {
     "name": "stdout",
     "output_type": "stream",
     "text": [
      "['alen', 'alen', 'alen']\n",
      "3\n"
     ]
    }
   ],
   "source": [
    "# count the number word alen in the sentence\n",
    "\n",
    "print(re.findall(\"alen\",text))\n",
    "print(len(re.findall(\"alen\",text)))\n"
   ]
  },
  {
   "cell_type": "code",
   "execution_count": 15,
   "id": "1dcd3c31-6451-4711-a134-06f4bcd314bf",
   "metadata": {},
   "outputs": [
    {
     "data": {
      "text/plain": [
       "<re.Match object; span=(0, 4), match='alen'>"
      ]
     },
     "execution_count": 15,
     "metadata": {},
     "output_type": "execute_result"
    }
   ],
   "source": [
    "re.search('^alen', text)"
   ]
  },
  {
   "cell_type": "code",
   "execution_count": 23,
   "id": "6f1e76d0-2d9f-444f-bfbe-9169245e6de3",
   "metadata": {},
   "outputs": [
    {
     "data": {
      "text/plain": [
       "<re.Match object; span=(64, 68), match='alen'>"
      ]
     },
     "execution_count": 23,
     "metadata": {},
     "output_type": "execute_result"
    }
   ],
   "source": [
    "text = \"alen is the hero in the game, alen is footbal player, my friend alen\"\n",
    "\n",
    "re.search('alen$', text)"
   ]
  },
  {
   "cell_type": "code",
   "execution_count": 24,
   "id": "3007b6e5-003f-415f-bc87-11a2b48f23fd",
   "metadata": {},
   "outputs": [],
   "source": [
    "grades = \"ABBCCAABCABCCA\""
   ]
  },
  {
   "cell_type": "code",
   "execution_count": 25,
   "id": "34889860-2e9b-4669-ae9e-33bf7bbe8b8e",
   "metadata": {},
   "outputs": [
    {
     "data": {
      "text/plain": [
       "['B', 'B', 'B', 'B']"
      ]
     },
     "execution_count": 25,
     "metadata": {},
     "output_type": "execute_result"
    }
   ],
   "source": [
    "# fing number of B in the grades\n",
    "re.findall('B', grades)"
   ]
  },
  {
   "cell_type": "code",
   "execution_count": 26,
   "id": "93426351-6966-4386-ba2d-710849aa56fb",
   "metadata": {},
   "outputs": [
    {
     "data": {
      "text/plain": [
       "['A', 'B', 'B', 'A', 'A', 'B', 'A', 'B', 'A']"
      ]
     },
     "execution_count": 26,
     "metadata": {},
     "output_type": "execute_result"
    }
   ],
   "source": [
    "# fing number of B and A in the grades\n",
    "re.findall(\"[BA]\", grades)"
   ]
  },
  {
   "cell_type": "code",
   "execution_count": 39,
   "id": "5459f4b5-254a-4144-97e3-ede6d84f3bbe",
   "metadata": {},
   "outputs": [
    {
     "data": {
      "text/plain": [
       "True"
      ]
     },
     "execution_count": 39,
     "metadata": {},
     "output_type": "execute_result"
    }
   ],
   "source": [
    "re.findall(\"BA\", grades) == re.findall(\"[B][A]\", grades) # both are same. so,"
   ]
  },
  {
   "cell_type": "code",
   "execution_count": 40,
   "id": "c2c174d1-deab-4655-817a-1765e7652e3a",
   "metadata": {},
   "outputs": [
    {
     "data": {
      "text/plain": [
       "['BBC', 'ABC', 'ABC']"
      ]
     },
     "execution_count": 40,
     "metadata": {},
     "output_type": "execute_result"
    }
   ],
   "source": [
    "# find in grade first 2 letter start with A or B, but the last letter must be C\n",
    "re.findall('[A-B][A-B]C', grades)"
   ]
  },
  {
   "cell_type": "code",
   "execution_count": 41,
   "id": "32a42b9d-aa4f-4e71-9e7b-6a02f68fec70",
   "metadata": {},
   "outputs": [
    {
     "data": {
      "text/plain": [
       "['AB', 'BC', 'CA', 'AB', 'CA', 'BC', 'CA']"
      ]
     },
     "execution_count": 41,
     "metadata": {},
     "output_type": "execute_result"
    }
   ],
   "source": [
    "re.findall('AB|CA|BC|AA', grades)"
   ]
  },
  {
   "cell_type": "code",
   "execution_count": 42,
   "id": "d5807670-0f09-4ac6-bbe5-ff837ca3fba4",
   "metadata": {},
   "outputs": [
    {
     "data": {
      "text/plain": [
       "['B', 'B', 'C', 'C', 'B', 'C', 'B', 'C', 'C']"
      ]
     },
     "execution_count": 42,
     "metadata": {},
     "output_type": "execute_result"
    }
   ],
   "source": [
    "# All grades except A\n",
    "re.findall('[^A]', grades)"
   ]
  },
  {
   "cell_type": "code",
   "execution_count": 43,
   "id": "6249ab1e-c4e2-4a9d-a9a1-a6e40089c34d",
   "metadata": {},
   "outputs": [
    {
     "data": {
      "text/plain": [
       "[]"
      ]
     },
     "execution_count": 43,
     "metadata": {},
     "output_type": "execute_result"
    }
   ],
   "source": [
    "re.findall('^[^A]', grades)"
   ]
  },
  {
   "cell_type": "code",
   "execution_count": 44,
   "id": "902c2acc-0ced-439f-87fc-4ab7ae9768b2",
   "metadata": {},
   "outputs": [
    {
     "data": {
      "text/plain": [
       "['C']"
      ]
     },
     "execution_count": 44,
     "metadata": {},
     "output_type": "execute_result"
    }
   ],
   "source": [
    "grades = \"CBBCCAABCABCCA\"\n",
    "re.findall('^[^A]', grades)"
   ]
  },
  {
   "cell_type": "markdown",
   "id": "66e99aa0-c650-446e-9295-65c43362da2c",
   "metadata": {},
   "source": [
    "### Quantifiers"
   ]
  },
  {
   "cell_type": "code",
   "execution_count": 46,
   "id": "181dc1e6-12a1-4f89-bb4a-cfce0da8863d",
   "metadata": {},
   "outputs": [
    {
     "data": {
      "text/plain": [
       "['AA', 'AAAA', 'AAA']"
      ]
     },
     "execution_count": 46,
     "metadata": {},
     "output_type": "execute_result"
    }
   ],
   "source": [
    "grades = 'AABBBAAAACAAABA'\n",
    "re.findall('A{2,5}',grades)"
   ]
  },
  {
   "cell_type": "code",
   "execution_count": 48,
   "id": "d5011f40-0f25-4a66-bb23-5719868265ad",
   "metadata": {},
   "outputs": [
    {
     "data": {
      "text/plain": [
       "['AA', 'AA', 'AA', 'AA']"
      ]
     },
     "execution_count": 48,
     "metadata": {},
     "output_type": "execute_result"
    }
   ],
   "source": [
    "re.findall('A{2}',grades) # take min and max 2 "
   ]
  },
  {
   "cell_type": "code",
   "execution_count": 51,
   "id": "67cfee4f-c0be-4955-ab48-ed57f38f01a5",
   "metadata": {},
   "outputs": [
    {
     "data": {
      "text/plain": [
       "['AABBB', 'AAAB']"
      ]
     },
     "execution_count": 51,
     "metadata": {},
     "output_type": "execute_result"
    }
   ],
   "source": [
    "re.findall('A{1,10}B{1,10}', grades)"
   ]
  },
  {
   "cell_type": "code",
   "execution_count": 4,
   "id": "a7949c22-26fe-4452-8a81-373432c0828e",
   "metadata": {},
   "outputs": [
    {
     "name": "stdout",
     "output_type": "stream",
     "text": [
      "['Amy', 'Mary', 'Ruth', 'Peter']\n"
     ]
    }
   ],
   "source": [
    "import re\n",
    "\n",
    "simple_string = \"\"\"Amy is 5 years old, and her sister Mary is 2 years old. \n",
    "    Ruth and Peter, their parents, have 3 kids.\"\"\"\n",
    "\n",
    "# YOUR CODE HERE\n",
    "result = re.findall(\"[A-Z][\\w]*\",simple_string)\n",
    "print(result)"
   ]
  },
  {
   "cell_type": "code",
   "execution_count": null,
   "id": "d0dd2435-0489-4b32-8050-00b34ea22b96",
   "metadata": {},
   "outputs": [],
   "source": []
  }
 ],
 "metadata": {
  "kernelspec": {
   "display_name": "Python 3 (ipykernel)",
   "language": "python",
   "name": "python3"
  },
  "language_info": {
   "codemirror_mode": {
    "name": "ipython",
    "version": 3
   },
   "file_extension": ".py",
   "mimetype": "text/x-python",
   "name": "python",
   "nbconvert_exporter": "python",
   "pygments_lexer": "ipython3",
   "version": "3.10.9"
  }
 },
 "nbformat": 4,
 "nbformat_minor": 5
}
