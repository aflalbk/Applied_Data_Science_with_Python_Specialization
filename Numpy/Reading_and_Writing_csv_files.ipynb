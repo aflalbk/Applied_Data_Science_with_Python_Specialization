{
 "cells": [
  {
   "cell_type": "code",
   "execution_count": 28,
   "id": "9973dfcc-bd13-4a85-b2e9-2945fde72308",
   "metadata": {},
   "outputs": [],
   "source": [
    "import csv"
   ]
  },
  {
   "cell_type": "code",
   "execution_count": 29,
   "id": "be05f23c-3d0d-4c37-9e98-fbdaeee39865",
   "metadata": {},
   "outputs": [
    {
     "data": {
      "text/plain": [
       "'%.2f'"
      ]
     },
     "execution_count": 29,
     "metadata": {},
     "output_type": "execute_result"
    }
   ],
   "source": [
    "%precision 2"
   ]
  },
  {
   "cell_type": "code",
   "execution_count": 30,
   "id": "6ed277d6-cffe-48c0-8693-7ac09d730ec9",
   "metadata": {},
   "outputs": [
    {
     "name": "stdout",
     "output_type": "stream",
     "text": [
      "[{'': '1', 'manufacturer': 'audi', 'model': 'a4', 'displ': '1.8', 'year': '1999', 'cyl': '4', 'trans': 'auto(l5)', 'drv': 'f', 'cty': '18', 'hwy': '29', 'fl': 'p', 'class': 'compact'}, {'': '2', 'manufacturer': 'audi', 'model': 'a4', 'displ': '1.8', 'year': '1999', 'cyl': '4', 'trans': 'manual(m5)', 'drv': 'f', 'cty': '21', 'hwy': '29', 'fl': 'p', 'class': 'compact'}, {'': '3', 'manufacturer': 'audi', 'model': 'a4', 'displ': '2', 'year': '2008', 'cyl': '4', 'trans': 'manual(m6)', 'drv': 'f', 'cty': '20', 'hwy': '31', 'fl': 'p', 'class': 'compact'}]\n"
     ]
    }
   ],
   "source": [
    "with open('mpg.csv') as csvfile:\n",
    "    mpg = list(csv.DictReader(csvfile))\n",
    "\n",
    "print(mpg[:3])"
   ]
  },
  {
   "cell_type": "code",
   "execution_count": 4,
   "id": "6f080f0f-f2ef-4f55-900a-5d3d583068a8",
   "metadata": {},
   "outputs": [
    {
     "data": {
      "text/plain": [
       "234"
      ]
     },
     "execution_count": 4,
     "metadata": {},
     "output_type": "execute_result"
    }
   ],
   "source": [
    "len(mpg)"
   ]
  },
  {
   "cell_type": "code",
   "execution_count": 5,
   "id": "a0282012-ccc2-4cb7-95e9-99b040791704",
   "metadata": {},
   "outputs": [
    {
     "data": {
      "text/plain": [
       "dict_keys(['', 'manufacturer', 'model', 'displ', 'year', 'cyl', 'trans', 'drv', 'cty', 'hwy', 'fl', 'class'])"
      ]
     },
     "execution_count": 5,
     "metadata": {},
     "output_type": "execute_result"
    }
   ],
   "source": [
    "mpg[0].keys()"
   ]
  },
  {
   "cell_type": "code",
   "execution_count": 6,
   "id": "3f8a60be-ad58-42e3-b140-7fd45626b057",
   "metadata": {},
   "outputs": [
    {
     "data": {
      "text/plain": [
       "16.86"
      ]
     },
     "execution_count": 6,
     "metadata": {},
     "output_type": "execute_result"
    }
   ],
   "source": [
    "sum(float(data['cty']) for data in mpg if 'cty' in data)/len(mpg)"
   ]
  },
  {
   "cell_type": "code",
   "execution_count": 7,
   "id": "7bfc634e-fde6-498d-9072-afdaa1999555",
   "metadata": {},
   "outputs": [
    {
     "data": {
      "text/plain": [
       "23.44"
      ]
     },
     "execution_count": 7,
     "metadata": {},
     "output_type": "execute_result"
    }
   ],
   "source": [
    "sum(float(data['hwy']) for data in mpg if 'hwy' in data)/len(mpg)"
   ]
  },
  {
   "cell_type": "code",
   "execution_count": 9,
   "id": "2c1bc0fd-57ad-471d-b28c-f3bdccd1c932",
   "metadata": {},
   "outputs": [
    {
     "data": {
      "text/plain": [
       "{'4', '5', '6', '8'}"
      ]
     },
     "execution_count": 9,
     "metadata": {},
     "output_type": "execute_result"
    }
   ],
   "source": [
    "cylinders = set(data['cyl'] for data in mpg if 'cyl' in data)\n",
    "cylinders"
   ]
  },
  {
   "cell_type": "code",
   "execution_count": 15,
   "id": "68be1eae-b16a-4640-8bd0-1985f4cf6aab",
   "metadata": {},
   "outputs": [
    {
     "name": "stdout",
     "output_type": "stream",
     "text": [
      "[('6', 16.21518987341772), ('4', 21.012345679012345), ('8', 12.571428571428571), ('5', 20.5)]\n"
     ]
    },
    {
     "data": {
      "text/plain": [
       "[('4', 21.01), ('5', 20.50), ('6', 16.22), ('8', 12.57)]"
      ]
     },
     "execution_count": 15,
     "metadata": {},
     "output_type": "execute_result"
    }
   ],
   "source": [
    "ctyMbgByCyl = []\n",
    "\n",
    "for cylinder in cylinders:\n",
    "    sumMpg = 0\n",
    "    count = 0\n",
    "    for data in mpg:\n",
    "        if data['cyl'] == cylinder:\n",
    "            sumMpg += float(data['cty'])\n",
    "            count += 1\n",
    "    ctyMbgByCyl.append((cylinder,(sumMpg/count)))\n",
    "\n",
    "print(ctyMbgByCyl)\n",
    "ctyMbgByCyl.sort(key=lambda x: x[0])\n",
    "ctyMbgByCyl"
   ]
  },
  {
   "cell_type": "code",
   "execution_count": 16,
   "id": "7b7f309d-438e-40dd-a87b-f611692304f9",
   "metadata": {},
   "outputs": [
    {
     "data": {
      "text/plain": [
       "{'2seater', 'compact', 'midsize', 'minivan', 'pickup', 'subcompact', 'suv'}"
      ]
     },
     "execution_count": 16,
     "metadata": {},
     "output_type": "execute_result"
    }
   ],
   "source": [
    "vehicle_class = set(data['class'] for data in mpg if 'class' in data)\n",
    "vehicle_class"
   ]
  },
  {
   "cell_type": "code",
   "execution_count": 20,
   "id": "179b550d-b5e2-47ed-ba79-7d23957dfed7",
   "metadata": {},
   "outputs": [
    {
     "data": {
      "text/plain": [
       "[('pickup', 16.88),\n",
       " ('suv', 18.13),\n",
       " ('minivan', 22.36),\n",
       " ('2seater', 24.80),\n",
       " ('midsize', 27.29),\n",
       " ('subcompact', 28.14),\n",
       " ('compact', 28.30)]"
      ]
     },
     "execution_count": 20,
     "metadata": {},
     "output_type": "execute_result"
    }
   ],
   "source": [
    "hwyMpgByClass = []\n",
    "for v in vehicle_class:\n",
    "    sumMpg = 0\n",
    "    count = 0\n",
    "    \n",
    "    for data in mpg:\n",
    "        if data['class'] == v:\n",
    "            sumMpg += float(data['hwy'])\n",
    "            count += 1\n",
    "    hwyMpgByClass.append((v,(sumMpg/count)))\n",
    "\n",
    "hwyMpgByClass.sort(key = lambda x: x[1])\n",
    "hwyMpgByClass"
   ]
  },
  {
   "cell_type": "code",
   "execution_count": 18,
   "id": "a9b1eeb0-6435-4fbe-93e4-55d62244145d",
   "metadata": {},
   "outputs": [],
   "source": [
    "store1 = [1.00, 11.00, 12.34, 2.34]\n",
    "store2 = [3.00, 11.10, 12.34, 2.01]\n",
    "cheapest = map(min, store2, store1)"
   ]
  },
  {
   "cell_type": "code",
   "execution_count": 19,
   "id": "ebebaa0c-7829-443f-8917-8bacb04a31ec",
   "metadata": {},
   "outputs": [
    {
     "name": "stdout",
     "output_type": "stream",
     "text": [
      "1.0\n",
      "11.0\n",
      "12.34\n",
      "2.01\n"
     ]
    }
   ],
   "source": [
    "for item in cheapest:\n",
    "    print(item)"
   ]
  },
  {
   "cell_type": "code",
   "execution_count": 25,
   "id": "d8945c49-6567-4a71-bc09-8a6cab0f4e47",
   "metadata": {},
   "outputs": [
    {
     "data": {
      "text/plain": [
       "'aflal Bk'"
      ]
     },
     "execution_count": 25,
     "metadata": {},
     "output_type": "execute_result"
    }
   ],
   "source": [
    "my_function = lambda x,y,z : x+y+z \n",
    "my_function(\"af\",\"lal\",\" Bk\")"
   ]
  },
  {
   "cell_type": "code",
   "execution_count": 26,
   "id": "8f93de9e-580d-449a-b99a-f20ddb092727",
   "metadata": {},
   "outputs": [
    {
     "data": {
      "text/plain": [
       "'aflal Bk'"
      ]
     },
     "execution_count": 26,
     "metadata": {},
     "output_type": "execute_result"
    }
   ],
   "source": [
    "my_function(\"af\",\"lal\",\" Bk\")"
   ]
  },
  {
   "cell_type": "code",
   "execution_count": null,
   "id": "18366800-e189-4c5c-b051-ea1768d3785d",
   "metadata": {},
   "outputs": [],
   "source": []
  }
 ],
 "metadata": {
  "kernelspec": {
   "display_name": "Python 3 (ipykernel)",
   "language": "python",
   "name": "python3"
  },
  "language_info": {
   "codemirror_mode": {
    "name": "ipython",
    "version": 3
   },
   "file_extension": ".py",
   "mimetype": "text/x-python",
   "name": "python",
   "nbconvert_exporter": "python",
   "pygments_lexer": "ipython3",
   "version": "3.10.9"
  }
 },
 "nbformat": 4,
 "nbformat_minor": 5
}
